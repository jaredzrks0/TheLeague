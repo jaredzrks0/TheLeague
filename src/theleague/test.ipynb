{
 "cells": [
  {
   "cell_type": "code",
   "execution_count": 17,
   "id": "0ac8cf0e",
   "metadata": {},
   "outputs": [],
   "source": [
    "import pandas as pd\n",
    "from bs4 import BeautifulSoup\n",
    "import requests\n",
    "import polars as pl\n",
    "from multimodal_communication import CloudHelper\n",
    "pd.date_range('2022-05-05', '2022-05-02')\n",
    "import re"
   ]
  },
  {
   "cell_type": "code",
   "execution_count": 18,
   "id": "918178e2",
   "metadata": {},
   "outputs": [],
   "source": [
    "df = pd.read_html('https://www.pro-football-reference.com/years/2024/games.htm', extract_links='body')[0]"
   ]
  },
  {
   "cell_type": "code",
   "execution_count": 19,
   "id": "4e5e9891",
   "metadata": {},
   "outputs": [],
   "source": [
    "df[\"dates\"] = df['Date'].apply(lambda x: x[0])  # '2024-09-05'\n",
    "df[\"suffixes\"] = df['Unnamed: 7'].apply(lambda x: x[1])  # '/boxscores/202409050kan.htm'\n",
    "\n",
    "# If you want just these two columns\n",
    "result = df[[\"dates\", \"suffixes\"]].dropna()\n"
   ]
  },
  {
   "cell_type": "code",
   "execution_count": 25,
   "id": "4d32920e",
   "metadata": {},
   "outputs": [],
   "source": [
    "df = pl.read_parquet('gs://nfl-data-collection/boxscores_2012.parquet')"
   ]
  },
  {
   "cell_type": "code",
   "execution_count": 31,
   "id": "44d94d36",
   "metadata": {},
   "outputs": [
    {
     "data": {
      "text/html": [
       "<div><style>\n",
       ".dataframe > thead > tr,\n",
       ".dataframe > tbody > tr {\n",
       "  text-align: right;\n",
       "  white-space: pre-wrap;\n",
       "}\n",
       "</style>\n",
       "<small>shape: (23_825, 2)</small><table border=\"1\" class=\"dataframe\"><thead><tr><th>player</th><th>date</th></tr><tr><td>str</td><td>str</td></tr></thead><tbody><tr><td>&quot;Doug Baldwin&quot;</td><td>&quot;2012-10-18&quot;</td></tr><tr><td>&quot;Alex Boone&quot;</td><td>&quot;2012-10-18&quot;</td></tr><tr><td>&quot;NaVorro Bowman&quot;</td><td>&quot;2012-10-18&quot;</td></tr><tr><td>&quot;Alan Branch&quot;</td><td>&quot;2012-10-18&quot;</td></tr><tr><td>&quot;Tramaine Brock&quot;</td><td>&quot;2012-10-18&quot;</td></tr><tr><td>&hellip;</td><td>&hellip;</td></tr><tr><td>&quot;Adam Vinatieri&quot;</td><td>&quot;2012-12-09&quot;</td></tr><tr><td>&quot;Adam Vinatieri&quot;</td><td>&quot;2012-12-16&quot;</td></tr><tr><td>&quot;Adam Vinatieri&quot;</td><td>&quot;2012-12-23&quot;</td></tr><tr><td>&quot;Adam Vinatieri&quot;</td><td>&quot;2012-12-30&quot;</td></tr><tr><td>&quot;Adam Vinatieri&quot;</td><td>&quot;2013-01-06&quot;</td></tr></tbody></table></div>"
      ],
      "text/plain": [
       "shape: (23_825, 2)\n",
       "┌────────────────┬────────────┐\n",
       "│ player         ┆ date       │\n",
       "│ ---            ┆ ---        │\n",
       "│ str            ┆ str        │\n",
       "╞════════════════╪════════════╡\n",
       "│ Doug Baldwin   ┆ 2012-10-18 │\n",
       "│ Alex Boone     ┆ 2012-10-18 │\n",
       "│ NaVorro Bowman ┆ 2012-10-18 │\n",
       "│ Alan Branch    ┆ 2012-10-18 │\n",
       "│ Tramaine Brock ┆ 2012-10-18 │\n",
       "│ …              ┆ …          │\n",
       "│ Adam Vinatieri ┆ 2012-12-09 │\n",
       "│ Adam Vinatieri ┆ 2012-12-16 │\n",
       "│ Adam Vinatieri ┆ 2012-12-23 │\n",
       "│ Adam Vinatieri ┆ 2012-12-30 │\n",
       "│ Adam Vinatieri ┆ 2013-01-06 │\n",
       "└────────────────┴────────────┘"
      ]
     },
     "execution_count": 31,
     "metadata": {},
     "output_type": "execute_result"
    }
   ],
   "source": [
    "df.select('player', 'date')"
   ]
  },
  {
   "cell_type": "code",
   "execution_count": 30,
   "id": "4c0dbeac",
   "metadata": {},
   "outputs": [
    {
     "data": {
      "text/plain": [
       "['player',\n",
       " 'team',\n",
       " 'pass_cmp',\n",
       " 'pass_att',\n",
       " 'pass_yds',\n",
       " 'pass_td',\n",
       " 'pass_int',\n",
       " 'pass_sacked',\n",
       " 'pass_sacked_yds',\n",
       " 'pass_long',\n",
       " 'pass_rating',\n",
       " 'rush_att',\n",
       " 'rush_yds',\n",
       " 'rush_td',\n",
       " 'rush_long',\n",
       " 'targets',\n",
       " 'rec',\n",
       " 'rec_yds',\n",
       " 'rec_td',\n",
       " 'rec_long',\n",
       " 'fumbles',\n",
       " 'fumbles_lost',\n",
       " 'player_id',\n",
       " 'date',\n",
       " 'home_team',\n",
       " 'away_team',\n",
       " 'week',\n",
       " 'num_fg_made',\n",
       " 'total_made_fg_distance',\n",
       " 'interceptions',\n",
       " 'interception_return_yards',\n",
       " 'interception_touchdowns',\n",
       " 'longest_interception_return',\n",
       " 'PD',\n",
       " 'sacks',\n",
       " 'total_tackles',\n",
       " 'Solo',\n",
       " 'Ast',\n",
       " 'tackles_for_loss',\n",
       " 'qb_hits',\n",
       " 'fumble_recoveries',\n",
       " 'fumble_return_yards',\n",
       " 'fumble_touchdowns',\n",
       " 'FF',\n",
       " 'Rt',\n",
       " 'kick_return_yards',\n",
       " 'Y/Rt',\n",
       " 'kick_return_touchdowns',\n",
       " 'Lng',\n",
       " 'Ret',\n",
       " 'punt_return_yards',\n",
       " 'Y/R',\n",
       " 'punt_return_touchdowns',\n",
       " 'Lng.1',\n",
       " 'extra_points_made',\n",
       " 'extra_points_attempted',\n",
       " 'field_goals_made',\n",
       " 'field_goals_attempted',\n",
       " 'punts',\n",
       " 'punt_yards',\n",
       " 'yards_per_punt',\n",
       " 'longest_punt',\n",
       " 'position',\n",
       " 'offense_snaps',\n",
       " 'offense_pct',\n",
       " 'defense_snaps',\n",
       " 'defense_pct',\n",
       " 'special_teams_snaps',\n",
       " 'special_teams_pct',\n",
       " 'source_url',\n",
       " 'season']"
      ]
     },
     "execution_count": 30,
     "metadata": {},
     "output_type": "execute_result"
    }
   ],
   "source": [
    "df.columns"
   ]
  },
  {
   "cell_type": "code",
   "execution_count": null,
   "id": "e03838a1",
   "metadata": {},
   "outputs": [],
   "source": []
  }
 ],
 "metadata": {
  "kernelspec": {
   "display_name": "theleague",
   "language": "python",
   "name": "python3"
  },
  "language_info": {
   "codemirror_mode": {
    "name": "ipython",
    "version": 3
   },
   "file_extension": ".py",
   "mimetype": "text/x-python",
   "name": "python",
   "nbconvert_exporter": "python",
   "pygments_lexer": "ipython3",
   "version": "3.10.0"
  }
 },
 "nbformat": 4,
 "nbformat_minor": 5
}
